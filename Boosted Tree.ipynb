{
 "cells": [
  {
   "cell_type": "code",
   "execution_count": 1,
   "metadata": {},
   "outputs": [],
   "source": [
    "import numpy as np\n",
    "import pandas as pd\n",
    "from sklearn.tree import DecisionTreeClassifier\n",
    "from sklearn.ensemble import AdaBoostClassifier\n",
    "import scipy.stats as sps"
   ]
  },
  {
   "cell_type": "code",
   "execution_count": 2,
   "metadata": {},
   "outputs": [],
   "source": [
    "Y_train = pd.read_csv('y_train.csv')\n",
    "X_test= pd.read_csv('X_test_scaled.csv')\n",
    "Y_test= pd.read_csv('y_test.csv')\n",
    "X_train = pd.read_csv('X_train_scaled.csv')\n",
    "Y_oot = pd.read_csv('y_oot.csv')\n",
    "X_oot = pd.read_csv('X_oot_scaled.csv')"
   ]
  },
  {
   "cell_type": "code",
   "execution_count": 4,
   "metadata": {},
   "outputs": [],
   "source": [
    "regr = AdaBoostClassifier(DecisionTreeClassifier(criterion='gini'),\n",
    "                        n_estimators=300)\n",
    "# loss function ‘linear’, ‘square’, ‘exponential’"
   ]
  },
  {
   "cell_type": "code",
   "execution_count": 5,
   "metadata": {},
   "outputs": [
    {
     "name": "stderr",
     "output_type": "stream",
     "text": [
      "C:\\Users\\heyup\\Anaconda3\\lib\\site-packages\\sklearn\\utils\\validation.py:578: DataConversionWarning: A column-vector y was passed when a 1d array was expected. Please change the shape of y to (n_samples, ), for example using ravel().\n",
      "  y = column_or_1d(y, warn=True)\n"
     ]
    },
    {
     "data": {
      "text/plain": [
       "AdaBoostClassifier(algorithm='SAMME.R',\n",
       "          base_estimator=DecisionTreeClassifier(class_weight=None, criterion='gini', max_depth=None,\n",
       "            max_features=None, max_leaf_nodes=None,\n",
       "            min_impurity_decrease=0.0, min_impurity_split=None,\n",
       "            min_samples_leaf=1, min_samples_split=2,\n",
       "            min_weight_fraction_leaf=0.0, presort=False, random_state=None,\n",
       "            splitter='best'),\n",
       "          learning_rate=1.0, n_estimators=300, random_state=None)"
      ]
     },
     "execution_count": 5,
     "metadata": {},
     "output_type": "execute_result"
    }
   ],
   "source": [
    "regr.fit(X_train, Y_train)"
   ]
  },
  {
   "cell_type": "code",
   "execution_count": 6,
   "metadata": {},
   "outputs": [
    {
     "data": {
      "text/plain": [
       "array([2.22044605e-16, 2.22044605e-16, 2.22044605e-16, ...,\n",
       "       2.22044605e-16, 2.22044605e-16, 2.22044605e-16])"
      ]
     },
     "execution_count": 6,
     "metadata": {},
     "output_type": "execute_result"
    }
   ],
   "source": [
    "pred_train = regr.predict_proba(X_train)[:,1]\n",
    "pred_train"
   ]
  },
  {
   "cell_type": "code",
   "execution_count": 7,
   "metadata": {
    "scrolled": true
   },
   "outputs": [
    {
     "data": {
      "text/plain": [
       "array([2.22044605e-16, 2.22044605e-16, 2.22044605e-16, ...,\n",
       "       2.22044605e-16, 2.22044605e-16, 2.22044605e-16])"
      ]
     },
     "execution_count": 7,
     "metadata": {},
     "output_type": "execute_result"
    }
   ],
   "source": [
    "pred_test= regr.predict_proba(X_test)[:,1]\n",
    "pred_test"
   ]
  },
  {
   "cell_type": "code",
   "execution_count": 8,
   "metadata": {},
   "outputs": [
    {
     "data": {
      "text/plain": [
       "array([1.00000000e+00, 1.00000000e+00, 2.22044605e-16, ...,\n",
       "       2.22044605e-16, 2.22044605e-16, 2.22044605e-16])"
      ]
     },
     "execution_count": 8,
     "metadata": {},
     "output_type": "execute_result"
    }
   ],
   "source": [
    "pred_oot = regr.predict_proba(X_oot)[:,1]\n",
    "pred_oot"
   ]
  },
  {
   "cell_type": "code",
   "execution_count": 9,
   "metadata": {},
   "outputs": [],
   "source": [
    "#test\n",
    "newDF = X_test\n",
    "newDF['prob'] = pred_test\n",
    "newDF['org'] = Y_test\n",
    "newDF.sort_values(by=['prob'], ascending = False, inplace = True)"
   ]
  },
  {
   "cell_type": "code",
   "execution_count": 10,
   "metadata": {},
   "outputs": [],
   "source": [
    "#train\n",
    "newDF1 = X_train\n",
    "newDF1['prob'] = pred_train\n",
    "newDF1['org'] = Y_train\n",
    "newDF1.sort_values(by=['prob'], ascending = False, inplace = True)"
   ]
  },
  {
   "cell_type": "code",
   "execution_count": 12,
   "metadata": {},
   "outputs": [],
   "source": [
    "#oot\n",
    "newDF2 = X_oot\n",
    "newDF2['prob'] = pred_oot\n",
    "newDF2['org'] = Y_oot\n",
    "newDF2.sort_values(by=['prob'], ascending = False, inplace = True)"
   ]
  },
  {
   "cell_type": "markdown",
   "metadata": {},
   "source": [
    "## FDR "
   ]
  },
  {
   "cell_type": "code",
   "execution_count": 31,
   "metadata": {},
   "outputs": [
    {
     "name": "stdout",
     "output_type": "stream",
     "text": [
      "253 24938 25191 0.010043269421618832\n"
     ]
    }
   ],
   "source": [
    "# test\n",
    "\n",
    "fdr = []\n",
    "records_cum = []\n",
    "goods_cum = []\n",
    "bads_cum = []\n",
    "perc_goods = []\n",
    "perc_bads = []\n",
    "\n",
    "total_bads = sum(newDF['org']==1)\n",
    "total_goods = sum(newDF['org']==0)\n",
    "total_records = len(newDF)\n",
    "fraud_rate = total_bads / total_records\n",
    "\n",
    "for i in np.arange(0.01, 0.21, 0.01):\n",
    "    topRows = int(round(len(newDF)*i))\n",
    "    records_cum.append(topRows)\n",
    "    bads_cum.append(newDF.iloc[0:topRows, 21].sum())\n",
    "    goods_cum.append(topRows - newDF.iloc[0:topRows, 21].sum())\n",
    "    perc_goods.append((topRows - newDF.iloc[0:topRows, 21].sum())/ total_goods)\n",
    "    fdr.append(newDF.iloc[0:topRows, 21].sum()/sum(newDF['org']==1))\n",
    "    \n",
    "\n",
    "print(total_bads, total_goods, total_records, fraud_rate)"
   ]
  },
  {
   "cell_type": "code",
   "execution_count": null,
   "metadata": {},
   "outputs": [],
   "source": []
  },
  {
   "cell_type": "code",
   "execution_count": 29,
   "metadata": {},
   "outputs": [
    {
     "data": {
      "text/html": [
       "<div>\n",
       "<style scoped>\n",
       "    .dataframe tbody tr th:only-of-type {\n",
       "        vertical-align: middle;\n",
       "    }\n",
       "\n",
       "    .dataframe tbody tr th {\n",
       "        vertical-align: top;\n",
       "    }\n",
       "\n",
       "    .dataframe thead th {\n",
       "        text-align: right;\n",
       "    }\n",
       "</style>\n",
       "<table border=\"1\" class=\"dataframe\">\n",
       "  <thead>\n",
       "    <tr style=\"text-align: right;\">\n",
       "      <th></th>\n",
       "      <th>fdr</th>\n",
       "      <th>records_cum</th>\n",
       "      <th>goods_cum</th>\n",
       "      <th>bads_cum</th>\n",
       "      <th>perc_goods</th>\n",
       "    </tr>\n",
       "  </thead>\n",
       "  <tbody>\n",
       "    <tr>\n",
       "      <th>0</th>\n",
       "      <td>0.075099</td>\n",
       "      <td>252</td>\n",
       "      <td>233</td>\n",
       "      <td>19</td>\n",
       "      <td>0.009343</td>\n",
       "    </tr>\n",
       "    <tr>\n",
       "      <th>1</th>\n",
       "      <td>0.177866</td>\n",
       "      <td>504</td>\n",
       "      <td>459</td>\n",
       "      <td>45</td>\n",
       "      <td>0.018406</td>\n",
       "    </tr>\n",
       "    <tr>\n",
       "      <th>2</th>\n",
       "      <td>0.260870</td>\n",
       "      <td>756</td>\n",
       "      <td>690</td>\n",
       "      <td>66</td>\n",
       "      <td>0.027669</td>\n",
       "    </tr>\n",
       "    <tr>\n",
       "      <th>3</th>\n",
       "      <td>0.347826</td>\n",
       "      <td>1008</td>\n",
       "      <td>920</td>\n",
       "      <td>88</td>\n",
       "      <td>0.036891</td>\n",
       "    </tr>\n",
       "    <tr>\n",
       "      <th>4</th>\n",
       "      <td>0.359684</td>\n",
       "      <td>1260</td>\n",
       "      <td>1169</td>\n",
       "      <td>91</td>\n",
       "      <td>0.046876</td>\n",
       "    </tr>\n",
       "    <tr>\n",
       "      <th>5</th>\n",
       "      <td>0.367589</td>\n",
       "      <td>1511</td>\n",
       "      <td>1418</td>\n",
       "      <td>93</td>\n",
       "      <td>0.056861</td>\n",
       "    </tr>\n",
       "    <tr>\n",
       "      <th>6</th>\n",
       "      <td>0.379447</td>\n",
       "      <td>1763</td>\n",
       "      <td>1667</td>\n",
       "      <td>96</td>\n",
       "      <td>0.066846</td>\n",
       "    </tr>\n",
       "    <tr>\n",
       "      <th>7</th>\n",
       "      <td>0.379447</td>\n",
       "      <td>2015</td>\n",
       "      <td>1919</td>\n",
       "      <td>96</td>\n",
       "      <td>0.076951</td>\n",
       "    </tr>\n",
       "    <tr>\n",
       "      <th>8</th>\n",
       "      <td>0.391304</td>\n",
       "      <td>2267</td>\n",
       "      <td>2168</td>\n",
       "      <td>99</td>\n",
       "      <td>0.086936</td>\n",
       "    </tr>\n",
       "    <tr>\n",
       "      <th>9</th>\n",
       "      <td>0.395257</td>\n",
       "      <td>2519</td>\n",
       "      <td>2419</td>\n",
       "      <td>100</td>\n",
       "      <td>0.097001</td>\n",
       "    </tr>\n",
       "    <tr>\n",
       "      <th>10</th>\n",
       "      <td>0.399209</td>\n",
       "      <td>2771</td>\n",
       "      <td>2670</td>\n",
       "      <td>101</td>\n",
       "      <td>0.107066</td>\n",
       "    </tr>\n",
       "    <tr>\n",
       "      <th>11</th>\n",
       "      <td>0.407115</td>\n",
       "      <td>3023</td>\n",
       "      <td>2920</td>\n",
       "      <td>103</td>\n",
       "      <td>0.117090</td>\n",
       "    </tr>\n",
       "    <tr>\n",
       "      <th>12</th>\n",
       "      <td>0.415020</td>\n",
       "      <td>3275</td>\n",
       "      <td>3170</td>\n",
       "      <td>105</td>\n",
       "      <td>0.127115</td>\n",
       "    </tr>\n",
       "    <tr>\n",
       "      <th>13</th>\n",
       "      <td>0.422925</td>\n",
       "      <td>3527</td>\n",
       "      <td>3420</td>\n",
       "      <td>107</td>\n",
       "      <td>0.137140</td>\n",
       "    </tr>\n",
       "    <tr>\n",
       "      <th>14</th>\n",
       "      <td>0.426877</td>\n",
       "      <td>3779</td>\n",
       "      <td>3671</td>\n",
       "      <td>108</td>\n",
       "      <td>0.147205</td>\n",
       "    </tr>\n",
       "    <tr>\n",
       "      <th>15</th>\n",
       "      <td>0.426877</td>\n",
       "      <td>4031</td>\n",
       "      <td>3923</td>\n",
       "      <td>108</td>\n",
       "      <td>0.157310</td>\n",
       "    </tr>\n",
       "    <tr>\n",
       "      <th>16</th>\n",
       "      <td>0.442688</td>\n",
       "      <td>4282</td>\n",
       "      <td>4170</td>\n",
       "      <td>112</td>\n",
       "      <td>0.167215</td>\n",
       "    </tr>\n",
       "    <tr>\n",
       "      <th>17</th>\n",
       "      <td>0.450593</td>\n",
       "      <td>4534</td>\n",
       "      <td>4420</td>\n",
       "      <td>114</td>\n",
       "      <td>0.177240</td>\n",
       "    </tr>\n",
       "    <tr>\n",
       "      <th>18</th>\n",
       "      <td>0.450593</td>\n",
       "      <td>4786</td>\n",
       "      <td>4672</td>\n",
       "      <td>114</td>\n",
       "      <td>0.187345</td>\n",
       "    </tr>\n",
       "    <tr>\n",
       "      <th>19</th>\n",
       "      <td>0.458498</td>\n",
       "      <td>5038</td>\n",
       "      <td>4922</td>\n",
       "      <td>116</td>\n",
       "      <td>0.197369</td>\n",
       "    </tr>\n",
       "  </tbody>\n",
       "</table>\n",
       "</div>"
      ],
      "text/plain": [
       "         fdr  records_cum  goods_cum  bads_cum  perc_goods\n",
       "0   0.075099          252        233        19    0.009343\n",
       "1   0.177866          504        459        45    0.018406\n",
       "2   0.260870          756        690        66    0.027669\n",
       "3   0.347826         1008        920        88    0.036891\n",
       "4   0.359684         1260       1169        91    0.046876\n",
       "5   0.367589         1511       1418        93    0.056861\n",
       "6   0.379447         1763       1667        96    0.066846\n",
       "7   0.379447         2015       1919        96    0.076951\n",
       "8   0.391304         2267       2168        99    0.086936\n",
       "9   0.395257         2519       2419       100    0.097001\n",
       "10  0.399209         2771       2670       101    0.107066\n",
       "11  0.407115         3023       2920       103    0.117090\n",
       "12  0.415020         3275       3170       105    0.127115\n",
       "13  0.422925         3527       3420       107    0.137140\n",
       "14  0.426877         3779       3671       108    0.147205\n",
       "15  0.426877         4031       3923       108    0.157310\n",
       "16  0.442688         4282       4170       112    0.167215\n",
       "17  0.450593         4534       4420       114    0.177240\n",
       "18  0.450593         4786       4672       114    0.187345\n",
       "19  0.458498         5038       4922       116    0.197369"
      ]
     },
     "execution_count": 29,
     "metadata": {},
     "output_type": "execute_result"
    }
   ],
   "source": [
    "test_stats = pd.DataFrame({'fdr':fdr,\n",
    "                          'records_cum':records_cum,\n",
    "                          'goods_cum':goods_cum,\n",
    "                          'bads_cum':bads_cum,\n",
    "                          'perc_goods': perc_goods})\n",
    "test_stats\n",
    "#test_stats.to_csv('Test stats.csv')"
   ]
  },
  {
   "cell_type": "code",
   "execution_count": 121,
   "metadata": {},
   "outputs": [
    {
     "data": {
      "text/plain": [
       "0.009569377990430622"
      ]
     },
     "execution_count": 121,
     "metadata": {},
     "output_type": "execute_result"
    }
   ],
   "source": [
    "# train# test\n",
    "topRows = int(round(len(newDF1)*0.03))\n",
    "\n",
    "newDF1.iloc[0:topRows, 21].sum()/sum(newDF1['org']==1)\n"
   ]
  },
  {
   "cell_type": "code",
   "execution_count": 122,
   "metadata": {},
   "outputs": [
    {
     "data": {
      "text/plain": [
       "0.027932960893854747"
      ]
     },
     "execution_count": 122,
     "metadata": {},
     "output_type": "execute_result"
    }
   ],
   "source": [
    "# 00t\n",
    "topRows = int(round(len(newDF2)*0.03))\n",
    "\n",
    "newDF2.iloc[0:topRows, 21].sum()/sum(newDF2['org']==1)"
   ]
  },
  {
   "cell_type": "code",
   "execution_count": null,
   "metadata": {},
   "outputs": [],
   "source": []
  }
 ],
 "metadata": {
  "kernelspec": {
   "display_name": "Python 3",
   "language": "python",
   "name": "python3"
  },
  "language_info": {
   "codemirror_mode": {
    "name": "ipython",
    "version": 3
   },
   "file_extension": ".py",
   "mimetype": "text/x-python",
   "name": "python",
   "nbconvert_exporter": "python",
   "pygments_lexer": "ipython3",
   "version": "3.6.5"
  }
 },
 "nbformat": 4,
 "nbformat_minor": 2
}
