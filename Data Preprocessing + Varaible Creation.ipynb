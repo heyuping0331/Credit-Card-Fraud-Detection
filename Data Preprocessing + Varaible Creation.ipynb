{
 "cells": [
  {
   "cell_type": "code",
   "execution_count": 1,
   "metadata": {},
   "outputs": [],
   "source": [
    "import pandas as pd\n",
    "import numpy as np\n",
    "import scipy.stats as sps\n",
    "import matplotlib.pyplot as plt\n",
    "import seaborn as sns\n",
    "import datetime as dt\n",
    "import sklearn as skl\n",
    "from sklearn import preprocessing\n",
    "%matplotlib inline\n",
    "start_time = pd.datetime.now()"
   ]
  },
  {
   "cell_type": "markdown",
   "metadata": {},
   "source": [
    "# Read and Inspect Data"
   ]
  },
  {
   "cell_type": "code",
   "execution_count": 2,
   "metadata": {},
   "outputs": [
    {
     "name": "stdout",
     "output_type": "stream",
     "text": [
      "Wall time: 10.9 s\n"
     ]
    }
   ],
   "source": [
    "%%time\n",
    "card = pd.read_excel('card transactions.xlsx')"
   ]
  },
  {
   "cell_type": "code",
   "execution_count": 5,
   "metadata": {},
   "outputs": [
    {
     "data": {
      "text/html": [
       "<div>\n",
       "<style scoped>\n",
       "    .dataframe tbody tr th:only-of-type {\n",
       "        vertical-align: middle;\n",
       "    }\n",
       "\n",
       "    .dataframe tbody tr th {\n",
       "        vertical-align: top;\n",
       "    }\n",
       "\n",
       "    .dataframe thead th {\n",
       "        text-align: right;\n",
       "    }\n",
       "</style>\n",
       "<table border=\"1\" class=\"dataframe\">\n",
       "  <thead>\n",
       "    <tr style=\"text-align: right;\">\n",
       "      <th></th>\n",
       "      <th>Recnum</th>\n",
       "      <th>Cardnum</th>\n",
       "      <th>Date</th>\n",
       "      <th>Merchnum</th>\n",
       "      <th>Merch description</th>\n",
       "      <th>Merch state</th>\n",
       "      <th>Merch zip</th>\n",
       "      <th>Transtype</th>\n",
       "      <th>Amount</th>\n",
       "      <th>Fraud</th>\n",
       "    </tr>\n",
       "  </thead>\n",
       "  <tbody>\n",
       "    <tr>\n",
       "      <th>0</th>\n",
       "      <td>1</td>\n",
       "      <td>5142190439</td>\n",
       "      <td>2010-01-01</td>\n",
       "      <td>5509006296254</td>\n",
       "      <td>FEDEX SHP 12/23/09 AB#</td>\n",
       "      <td>TN</td>\n",
       "      <td>38118.0</td>\n",
       "      <td>P</td>\n",
       "      <td>3.62</td>\n",
       "      <td>0</td>\n",
       "    </tr>\n",
       "    <tr>\n",
       "      <th>1</th>\n",
       "      <td>2</td>\n",
       "      <td>5142183973</td>\n",
       "      <td>2010-01-01</td>\n",
       "      <td>61003026333</td>\n",
       "      <td>SERVICE MERCHANDISE #81</td>\n",
       "      <td>MA</td>\n",
       "      <td>1803.0</td>\n",
       "      <td>P</td>\n",
       "      <td>31.42</td>\n",
       "      <td>0</td>\n",
       "    </tr>\n",
       "    <tr>\n",
       "      <th>2</th>\n",
       "      <td>3</td>\n",
       "      <td>5142131721</td>\n",
       "      <td>2010-01-01</td>\n",
       "      <td>4503082993600</td>\n",
       "      <td>OFFICE DEPOT #191</td>\n",
       "      <td>MD</td>\n",
       "      <td>20706.0</td>\n",
       "      <td>P</td>\n",
       "      <td>178.49</td>\n",
       "      <td>0</td>\n",
       "    </tr>\n",
       "    <tr>\n",
       "      <th>3</th>\n",
       "      <td>4</td>\n",
       "      <td>5142148452</td>\n",
       "      <td>2010-01-01</td>\n",
       "      <td>5509006296254</td>\n",
       "      <td>FEDEX SHP 12/28/09 AB#</td>\n",
       "      <td>TN</td>\n",
       "      <td>38118.0</td>\n",
       "      <td>P</td>\n",
       "      <td>3.62</td>\n",
       "      <td>0</td>\n",
       "    </tr>\n",
       "    <tr>\n",
       "      <th>4</th>\n",
       "      <td>5</td>\n",
       "      <td>5142190439</td>\n",
       "      <td>2010-01-01</td>\n",
       "      <td>5509006296254</td>\n",
       "      <td>FEDEX SHP 12/23/09 AB#</td>\n",
       "      <td>TN</td>\n",
       "      <td>38118.0</td>\n",
       "      <td>P</td>\n",
       "      <td>3.62</td>\n",
       "      <td>0</td>\n",
       "    </tr>\n",
       "    <tr>\n",
       "      <th>5</th>\n",
       "      <td>6</td>\n",
       "      <td>5142149874</td>\n",
       "      <td>2010-01-01</td>\n",
       "      <td>5509006296254</td>\n",
       "      <td>FEDEX SHP 12/22/09 AB#</td>\n",
       "      <td>TN</td>\n",
       "      <td>38118.0</td>\n",
       "      <td>P</td>\n",
       "      <td>3.67</td>\n",
       "      <td>0</td>\n",
       "    </tr>\n",
       "    <tr>\n",
       "      <th>6</th>\n",
       "      <td>7</td>\n",
       "      <td>5142189277</td>\n",
       "      <td>2010-01-01</td>\n",
       "      <td>5509006296254</td>\n",
       "      <td>FEDEX SHP 12/28/09 AB#</td>\n",
       "      <td>TN</td>\n",
       "      <td>38118.0</td>\n",
       "      <td>P</td>\n",
       "      <td>3.62</td>\n",
       "      <td>0</td>\n",
       "    </tr>\n",
       "    <tr>\n",
       "      <th>7</th>\n",
       "      <td>8</td>\n",
       "      <td>5142191182</td>\n",
       "      <td>2010-01-01</td>\n",
       "      <td>6098208200062</td>\n",
       "      <td>MIAMI COMPUTER SUPPLY</td>\n",
       "      <td>OH</td>\n",
       "      <td>45429.0</td>\n",
       "      <td>P</td>\n",
       "      <td>230.32</td>\n",
       "      <td>0</td>\n",
       "    </tr>\n",
       "    <tr>\n",
       "      <th>8</th>\n",
       "      <td>9</td>\n",
       "      <td>5142258629</td>\n",
       "      <td>2010-01-01</td>\n",
       "      <td>602608969534</td>\n",
       "      <td>FISHER SCI ATL</td>\n",
       "      <td>GA</td>\n",
       "      <td>30091.0</td>\n",
       "      <td>P</td>\n",
       "      <td>62.11</td>\n",
       "      <td>0</td>\n",
       "    </tr>\n",
       "    <tr>\n",
       "      <th>9</th>\n",
       "      <td>10</td>\n",
       "      <td>5142190439</td>\n",
       "      <td>2010-01-01</td>\n",
       "      <td>5509006296254</td>\n",
       "      <td>FEDEX SHP 12/23/09 AB#</td>\n",
       "      <td>TN</td>\n",
       "      <td>38118.0</td>\n",
       "      <td>P</td>\n",
       "      <td>3.62</td>\n",
       "      <td>0</td>\n",
       "    </tr>\n",
       "  </tbody>\n",
       "</table>\n",
       "</div>"
      ],
      "text/plain": [
       "   Recnum     Cardnum       Date       Merchnum        Merch description  \\\n",
       "0       1  5142190439 2010-01-01  5509006296254   FEDEX SHP 12/23/09 AB#   \n",
       "1       2  5142183973 2010-01-01    61003026333  SERVICE MERCHANDISE #81   \n",
       "2       3  5142131721 2010-01-01  4503082993600        OFFICE DEPOT #191   \n",
       "3       4  5142148452 2010-01-01  5509006296254   FEDEX SHP 12/28/09 AB#   \n",
       "4       5  5142190439 2010-01-01  5509006296254   FEDEX SHP 12/23/09 AB#   \n",
       "5       6  5142149874 2010-01-01  5509006296254   FEDEX SHP 12/22/09 AB#   \n",
       "6       7  5142189277 2010-01-01  5509006296254   FEDEX SHP 12/28/09 AB#   \n",
       "7       8  5142191182 2010-01-01  6098208200062    MIAMI COMPUTER SUPPLY   \n",
       "8       9  5142258629 2010-01-01   602608969534           FISHER SCI ATL   \n",
       "9      10  5142190439 2010-01-01  5509006296254   FEDEX SHP 12/23/09 AB#   \n",
       "\n",
       "  Merch state  Merch zip Transtype  Amount  Fraud  \n",
       "0          TN    38118.0         P    3.62      0  \n",
       "1          MA     1803.0         P   31.42      0  \n",
       "2          MD    20706.0         P  178.49      0  \n",
       "3          TN    38118.0         P    3.62      0  \n",
       "4          TN    38118.0         P    3.62      0  \n",
       "5          TN    38118.0         P    3.67      0  \n",
       "6          TN    38118.0         P    3.62      0  \n",
       "7          OH    45429.0         P  230.32      0  \n",
       "8          GA    30091.0         P   62.11      0  \n",
       "9          TN    38118.0         P    3.62      0  "
      ]
     },
     "execution_count": 5,
     "metadata": {},
     "output_type": "execute_result"
    }
   ],
   "source": [
    "card.head(10)"
   ]
  },
  {
   "cell_type": "code",
   "execution_count": 6,
   "metadata": {},
   "outputs": [
    {
     "data": {
      "text/plain": [
       "(96753, 10)"
      ]
     },
     "execution_count": 6,
     "metadata": {},
     "output_type": "execute_result"
    }
   ],
   "source": [
    "card.shape"
   ]
  },
  {
   "cell_type": "code",
   "execution_count": 7,
   "metadata": {},
   "outputs": [
    {
     "name": "stdout",
     "output_type": "stream",
     "text": [
      "<class 'pandas.core.frame.DataFrame'>\n",
      "RangeIndex: 96753 entries, 0 to 96752\n",
      "Data columns (total 10 columns):\n",
      "Recnum               96753 non-null int64\n",
      "Cardnum              96753 non-null int64\n",
      "Date                 96753 non-null datetime64[ns]\n",
      "Merchnum             93378 non-null object\n",
      "Merch description    96753 non-null object\n",
      "Merch state          95558 non-null object\n",
      "Merch zip            92097 non-null float64\n",
      "Transtype            96753 non-null object\n",
      "Amount               96753 non-null float64\n",
      "Fraud                96753 non-null int64\n",
      "dtypes: datetime64[ns](1), float64(2), int64(3), object(4)\n",
      "memory usage: 7.4+ MB\n"
     ]
    }
   ],
   "source": [
    "card.info()"
   ]
  },
  {
   "cell_type": "markdown",
   "metadata": {},
   "source": [
    "# Remove outlier and all but type P"
   ]
  },
  {
   "cell_type": "code",
   "execution_count": 8,
   "metadata": {},
   "outputs": [
    {
     "name": "stdout",
     "output_type": "stream",
     "text": [
      "52714    3102045.53\n",
      "Name: Amount, dtype: float64\n"
     ]
    }
   ],
   "source": [
    "card = card[card.Transtype =='P']\n",
    "print(card[card['Recnum'] == 52715]['Amount'])\n",
    "card = card[card.Recnum != 52715]"
   ]
  },
  {
   "cell_type": "markdown",
   "metadata": {},
   "source": [
    "# Fill Missing value"
   ]
  },
  {
   "cell_type": "code",
   "execution_count": 9,
   "metadata": {},
   "outputs": [],
   "source": [
    "## fill Merch state: group by merch zip or group by all\n",
    "state_ref = card.groupby('Merch zip')['Merch state'].apply(lambda x: x.mode()).reset_index()\n",
    "state_ref = state_ref[state_ref.level_1 == 0].iloc[:, [0,2]]"
   ]
  },
  {
   "cell_type": "code",
   "execution_count": 10,
   "metadata": {},
   "outputs": [],
   "source": [
    "state_ref.columns = ['Merch zip', 'state ref']"
   ]
  },
  {
   "cell_type": "code",
   "execution_count": 11,
   "metadata": {},
   "outputs": [],
   "source": [
    "card = card.merge(state_ref, on = 'Merch zip', how = 'left')"
   ]
  },
  {
   "cell_type": "code",
   "execution_count": 12,
   "metadata": {},
   "outputs": [],
   "source": [
    "card['Merch state'] = card['Merch state'].fillna(card['state ref']).fillna('TN')"
   ]
  },
  {
   "cell_type": "code",
   "execution_count": 13,
   "metadata": {},
   "outputs": [
    {
     "data": {
      "text/plain": [
       "0"
      ]
     },
     "execution_count": 13,
     "metadata": {},
     "output_type": "execute_result"
    }
   ],
   "source": [
    "card['Merch state'].isnull().sum()"
   ]
  },
  {
   "cell_type": "code",
   "execution_count": 14,
   "metadata": {},
   "outputs": [],
   "source": [
    "## fill Merch zip: group by cardnum and Merch state, or Merch state, or all\n",
    "zip_ref = card.groupby(['Merch state','Cardnum'])['Merch zip'].apply(lambda x: x.mode()).reset_index()\n",
    "zip_ref = zip_ref[zip_ref.level_2 == 0].iloc[:, [0,1,3]]"
   ]
  },
  {
   "cell_type": "code",
   "execution_count": 15,
   "metadata": {},
   "outputs": [],
   "source": [
    "zip_ref.columns = ['Merch state', 'Cardnum', 'zip ref']"
   ]
  },
  {
   "cell_type": "code",
   "execution_count": 16,
   "metadata": {},
   "outputs": [],
   "source": [
    "card = card.merge(zip_ref, on = ['Merch state','Cardnum'], how = 'left')"
   ]
  },
  {
   "cell_type": "code",
   "execution_count": 17,
   "metadata": {},
   "outputs": [],
   "source": [
    "zip_ref2 = card.groupby(['Merch state'])['Merch zip'].apply(lambda x: x.mode()).reset_index()"
   ]
  },
  {
   "cell_type": "code",
   "execution_count": 18,
   "metadata": {},
   "outputs": [],
   "source": [
    "zip_ref2 = zip_ref2[zip_ref2.level_1 == 0].iloc[:, [0,2]]"
   ]
  },
  {
   "cell_type": "code",
   "execution_count": 19,
   "metadata": {},
   "outputs": [],
   "source": [
    "zip_ref2.columns = ['Merch state', 'zip ref2']"
   ]
  },
  {
   "cell_type": "code",
   "execution_count": 20,
   "metadata": {},
   "outputs": [],
   "source": [
    "card = card.merge(zip_ref2, on = 'Merch state', how = 'left')"
   ]
  },
  {
   "cell_type": "code",
   "execution_count": 21,
   "metadata": {},
   "outputs": [],
   "source": [
    "card['Merch zip'] = card['Merch zip'].fillna(card['zip ref']).fillna(card['zip ref2']).fillna(38118)"
   ]
  },
  {
   "cell_type": "code",
   "execution_count": 22,
   "metadata": {},
   "outputs": [
    {
     "data": {
      "text/plain": [
       "0"
      ]
     },
     "execution_count": 22,
     "metadata": {},
     "output_type": "execute_result"
    }
   ],
   "source": [
    "card['Merch zip'].isnull().sum()"
   ]
  },
  {
   "cell_type": "code",
   "execution_count": 23,
   "metadata": {},
   "outputs": [],
   "source": [
    "## fill Merchnum group by cardnum and merch state, or merch state, or all\n",
    "merch_ref = card.groupby(['Merch state', 'Cardnum'])['Merchnum'].apply(lambda x:x.mode()).reset_index()\n",
    "merch_ref = merch_ref[merch_ref.level_2 == 0].iloc[:,[0,1,3]]"
   ]
  },
  {
   "cell_type": "code",
   "execution_count": 24,
   "metadata": {},
   "outputs": [],
   "source": [
    "merch_ref.columns = ['Merch state', 'Cardnum', 'merch ref']"
   ]
  },
  {
   "cell_type": "code",
   "execution_count": 25,
   "metadata": {},
   "outputs": [],
   "source": [
    "card = card.merge(merch_ref, on = ['Merch state','Cardnum'], how = 'left')"
   ]
  },
  {
   "cell_type": "code",
   "execution_count": 26,
   "metadata": {},
   "outputs": [],
   "source": [
    "merch_ref2 = card.groupby(['Merch state'])['Merchnum'].apply(lambda x:x.mode()).reset_index()\n",
    "merch_ref2 = merch_ref2[merch_ref2.level_1 == 0].iloc[:,[0,2]]\n",
    "merch_ref2.columns = ['Merch state', 'merch ref2']"
   ]
  },
  {
   "cell_type": "code",
   "execution_count": 27,
   "metadata": {},
   "outputs": [],
   "source": [
    "card = card.merge(merch_ref2, on = 'Merch state', how = 'left')"
   ]
  },
  {
   "cell_type": "code",
   "execution_count": 28,
   "metadata": {},
   "outputs": [],
   "source": [
    "card['Merchnum'] = card['Merchnum'].fillna(card['merch ref']).fillna(card['merch ref2']).fillna(930090121224)"
   ]
  },
  {
   "cell_type": "code",
   "execution_count": 29,
   "metadata": {},
   "outputs": [
    {
     "data": {
      "text/plain": [
       "0"
      ]
     },
     "execution_count": 29,
     "metadata": {},
     "output_type": "execute_result"
    }
   ],
   "source": [
    "card['Merchnum'].isnull().sum()"
   ]
  },
  {
   "cell_type": "code",
   "execution_count": 30,
   "metadata": {},
   "outputs": [
    {
     "name": "stdout",
     "output_type": "stream",
     "text": [
      "<class 'pandas.core.frame.DataFrame'>\n",
      "Int64Index: 96397 entries, 0 to 96396\n",
      "Data columns (total 15 columns):\n",
      "Recnum               96397 non-null int64\n",
      "Cardnum              96397 non-null int64\n",
      "Date                 96397 non-null datetime64[ns]\n",
      "Merchnum             96397 non-null object\n",
      "Merch description    96397 non-null object\n",
      "Merch state          96397 non-null object\n",
      "Merch zip            96397 non-null float64\n",
      "Transtype            96397 non-null object\n",
      "Amount               96397 non-null float64\n",
      "Fraud                96397 non-null int64\n",
      "state ref            92030 non-null object\n",
      "zip ref              95195 non-null float64\n",
      "zip ref2             96205 non-null float64\n",
      "merch ref            95333 non-null object\n",
      "merch ref2           96379 non-null object\n",
      "dtypes: datetime64[ns](1), float64(4), int64(3), object(7)\n",
      "memory usage: 11.8+ MB\n"
     ]
    }
   ],
   "source": [
    "card.info()"
   ]
  },
  {
   "cell_type": "code",
   "execution_count": 31,
   "metadata": {},
   "outputs": [],
   "source": [
    "card_clean = card.loc[:, 'Recnum':'Fraud']"
   ]
  },
  {
   "cell_type": "markdown",
   "metadata": {},
   "source": [
    "# Variable Creation"
   ]
  },
  {
   "cell_type": "code",
   "execution_count": 32,
   "metadata": {},
   "outputs": [
    {
     "name": "stdout",
     "output_type": "stream",
     "text": [
      "<class 'pandas.core.frame.DataFrame'>\n",
      "Int64Index: 96397 entries, 0 to 96396\n",
      "Data columns (total 10 columns):\n",
      "Recnum               96397 non-null int64\n",
      "Cardnum              96397 non-null int64\n",
      "Date                 96397 non-null datetime64[ns]\n",
      "Merchnum             96397 non-null object\n",
      "Merch description    96397 non-null object\n",
      "Merch state          96397 non-null object\n",
      "Merch zip            96397 non-null float64\n",
      "Transtype            96397 non-null object\n",
      "Amount               96397 non-null float64\n",
      "Fraud                96397 non-null int64\n",
      "dtypes: datetime64[ns](1), float64(2), int64(3), object(4)\n",
      "memory usage: 8.1+ MB\n"
     ]
    }
   ],
   "source": [
    "card_clean.info()"
   ]
  },
  {
   "cell_type": "code",
   "execution_count": 33,
   "metadata": {},
   "outputs": [],
   "source": [
    "c = card_clean.copy()"
   ]
  },
  {
   "cell_type": "code",
   "execution_count": 34,
   "metadata": {},
   "outputs": [
    {
     "data": {
      "text/plain": [
       "Recnum               0\n",
       "Cardnum              0\n",
       "Date                 0\n",
       "Merchnum             0\n",
       "Merch description    0\n",
       "Merch state          0\n",
       "Merch zip            0\n",
       "Transtype            0\n",
       "Amount               0\n",
       "Fraud                0\n",
       "dtype: int64"
      ]
     },
     "execution_count": 34,
     "metadata": {},
     "output_type": "execute_result"
    }
   ],
   "source": [
    "c.isna().sum()"
   ]
  },
  {
   "cell_type": "code",
   "execution_count": 35,
   "metadata": {},
   "outputs": [
    {
     "name": "stdout",
     "output_type": "stream",
     "text": [
      "<class 'pandas.core.frame.DataFrame'>\n",
      "Int64Index: 96397 entries, 0 to 96396\n",
      "Data columns (total 10 columns):\n",
      "Recnum               96397 non-null int64\n",
      "Cardnum              96397 non-null int64\n",
      "Date                 96397 non-null datetime64[ns]\n",
      "Merchnum             96397 non-null object\n",
      "Merch description    96397 non-null object\n",
      "Merch state          96397 non-null object\n",
      "Merch zip            96397 non-null float64\n",
      "Transtype            96397 non-null object\n",
      "Amount               96397 non-null float64\n",
      "Fraud                96397 non-null int64\n",
      "dtypes: datetime64[ns](1), float64(2), int64(3), object(4)\n",
      "memory usage: 8.1+ MB\n"
     ]
    }
   ],
   "source": [
    "c['Date'] = pd.to_datetime(c['Date'])\n",
    "c.info()"
   ]
  },
  {
   "cell_type": "markdown",
   "metadata": {},
   "source": [
    "\n",
    "## Amount Variables"
   ]
  },
  {
   "cell_type": "code",
   "execution_count": 37,
   "metadata": {},
   "outputs": [],
   "source": [
    "c = c.sort_values(['Cardnum', 'Date']) # sort in this way for easy merge later\n",
    "for agg in ['mean', 'max', 'median', 'sum']: \n",
    "    for days in ['1d', '2d', '4d', '8d', '15d', '31d']:\n",
    "        c['amt_'+agg+'_' +\"card_\" +days]  = c.sort_values('Recnum').set_index('Date').groupby(['Merchnum'])['Amount'].rolling(days).agg(agg).values\n",
    "        c['Actual/amt_'+agg+'_' +\"card_\"+days] = c['Amount']/c['amt_'+agg+'_' +\"card_\" +days]\n",
    "    \n",
    "c = c.sort_values(['Merchnum','Date']) # sort in this way for easy merge later\n",
    "for agg in ['mean', 'max', 'median', 'sum']: \n",
    "    for days in ['1d', '2d', '4d', '8d', '15d', '31d']:\n",
    "        c['amt_'+agg+'_' +\"merch_\" +days]  = c.sort_values('Recnum').set_index('Date').groupby(['Merchnum'])['Amount'].rolling(days).agg(agg).values\n",
    "        c['Actual/amt_'+agg+'_' +\"merch_\"+days] = c['Amount']/c['amt_'+agg+'_' +\"merch_\" +days]\n",
    "    \n",
    "c = c.sort_values(['Cardnum', 'Merchnum', 'Date']) # sort in this way for easy merge later\n",
    "for agg in ['mean', 'max', 'median', 'sum']: \n",
    "    for days in ['1d', '2d', '4d', '8d', '15d', '31d']:\n",
    "        c['amt_'+agg+'_' +\"cardmerch_\" +days]  = c.sort_values('Recnum').set_index('Date').groupby(['Cardnum','Merchnum'])['Amount'].rolling(days).agg(agg).values\n",
    "        c['Actual/amt_'+agg+'_' +\"cardmerch_\"+days] = c['Amount']/c['amt_'+agg+'_' +\"cardmerch_\" +days]\n",
    "\n",
    "c = c.sort_values(['Cardnum', 'Merch zip', 'Date']) # sort in this way for easy merge later\n",
    "for agg in ['mean', 'max', 'median', 'sum']: \n",
    "    for days in ['1d', '2d', '4d', '8d', '15d', '31d']:\n",
    "        c['amt_'+agg+'_' +\"cardzip_\" +days]  = c.sort_values('Recnum').set_index('Date').groupby(['Cardnum','Merch zip'])['Amount'].rolling(days).agg(agg).values\n",
    "        c['Actual/amt_'+agg+'_' +\"cardzip_\"+days] = c['Amount']/c['amt_'+agg+'_' +\"cardzip_\" +days]\n",
    "        \n",
    "c = c.sort_values(['Cardnum', 'Merch state', 'Date']) # sort in this way for easy merge later\n",
    "for agg in ['mean', 'max', 'median', 'sum']: \n",
    "    for days in ['1d', '2d', '4d', '8d', '15d', '31d']:\n",
    "        c['amt_'+agg+'_' +\"cardstate_\" +days]  = c.sort_values('Recnum').set_index('Date').groupby(['Cardnum','Merch state'])['Amount'].rolling(days).agg(agg).values\n",
    "        c['Actual/amt_'+agg+'_' +\"cardstate_\"+days] = c['Amount']/c['amt_'+agg+'_' +\"cardstate_\" +days]\n",
    "        \n"
   ]
  },
  {
   "cell_type": "code",
   "execution_count": 43,
   "metadata": {},
   "outputs": [],
   "source": [
    "\n",
    "c = c.sort_values(['Cardnum', 'Date']) # sort in this way for easy merge later\n",
    "for days in ['1d', '2d', '4d', '8d', '15d', '31d']:\n",
    "    c['freq_card_'+days] = c.sort_values('Recnum').set_index('Date').groupby(['Cardnum'])['Recnum'].rolling(days).agg('count').values\n",
    "\n",
    "c = c.sort_values(['Merchnum', 'Date']) # sort in this way for easy merge later\n",
    "for days in ['1d', '2d', '4d', '8d', '15d', '31d']:\n",
    "    c['freq_merch_'+days] = c.sort_values('Recnum').set_index('Date').groupby(['Merchnum'])['Recnum'].rolling(days).agg('count').values\n",
    "\n",
    "c = c.sort_values(['Cardnum', 'Merchnum', 'Date']) # sort in this way for easy merge later\n",
    "for days in ['1d', '2d', '4d', '8d', '15d', '31d']:\n",
    "    c['freq_cardmerch_'+days] = c.sort_values('Recnum').set_index('Date').groupby(['Cardnum','Merchnum'])['Recnum'].rolling(days).agg('count').values\n",
    "\n",
    "c = c.sort_values(['Cardnum', 'Merch zip', 'Date']) # sort in this way for easy merge later\n",
    "for days in ['1d', '2d', '4d', '8d', '15d', '31d']:\n",
    "    c['freq_cardzip_'+days] = c.sort_values('Recnum').set_index('Date').groupby(['Cardnum', 'Merch zip'])['Recnum'].rolling(days).agg('count').values\n",
    "\n",
    "c = c.sort_values(['Cardnum', 'Merch state', 'Date']) # sort in this way for easy merge later\n",
    "for days in ['1d', '2d', '4d', '8d', '15d', '31d']:\n",
    "    c['freq_cardstate_'+days] = c.sort_values('Recnum').set_index('Date').groupby(['Cardnum', 'Merch state'])['Recnum'].rolling(days).agg('count').values\n"
   ]
  },
  {
   "cell_type": "code",
   "execution_count": 55,
   "metadata": {},
   "outputs": [
    {
     "data": {
      "text/plain": [
       "(96397, 300)"
      ]
     },
     "execution_count": 55,
     "metadata": {},
     "output_type": "execute_result"
    }
   ],
   "source": [
    "\n",
    "c.columns.values\n",
    "c.shape"
   ]
  },
  {
   "cell_type": "markdown",
   "metadata": {},
   "source": [
    "## Velocity variables"
   ]
  },
  {
   "cell_type": "code",
   "execution_count": 54,
   "metadata": {},
   "outputs": [],
   "source": [
    "c = c.sort_values(['Cardnum', 'Date']) # sort in this way for easy merge later\n",
    "for agg in ['count','sum']: \n",
    "    for days in ['1d', '2d']:\n",
    "        c['tran_'+agg+'_' +\"card_\" +days]  = c.sort_values('Recnum').set_index('Date').groupby(['Cardnum'])['Amount'].rolling(days).agg(agg).values\n",
    " \n",
    "c = c.sort_values(['Merchnum', 'Date']) # sort in this way for easy merge later\n",
    "for agg in ['count','sum']: \n",
    "    for days in ['1d', '2d']:\n",
    "        c['tran_'+agg+'_' +\"Merch_\" +days]  = c.sort_values('Recnum').set_index('Date').groupby(['Merchnum'])['Amount'].rolling(days).agg(agg).values\n",
    "\n",
    "# avg Daily\n",
    "for agg in ['count','sum']: \n",
    "    for groupbyvar in ['Merchnum','Cardnum']:\n",
    "        c = c.sort_values([groupbyvar, 'Date'])\n",
    "        c['avgdaily_tran_'+agg+'_'+groupbyvar +\"_8d\" ]= c.sort_values('Recnum').set_index('Date').groupby(groupbyvar)['Amount'].rolling('8d').agg(agg).values/7\n",
    "\n",
    "\n",
    "for agg in ['count','sum']: \n",
    "    for groupbyvar in ['Merchnum','Cardnum']:\n",
    "        c = c.sort_values([groupbyvar, 'Date'])\n",
    "        c['avgdaily_tran_'+agg+'_'+groupbyvar +\"_15d\" ]= c.sort_values('Recnum').set_index('Date').groupby(groupbyvar)['Amount'].rolling('15d').agg(agg).values/15\n",
    "\n",
    "\n",
    "for agg in ['count','sum']: \n",
    "    for groupbyvar in ['Merchnum','Cardnum']:\n",
    "        c = c.sort_values([groupbyvar, 'Date'])\n",
    "        c['avgdaily_tran_'+agg+'_'+groupbyvar +\"_31d\" ]= c.sort_values('Recnum').set_index('Date').groupby(groupbyvar)['Amount'].rolling('31d').agg(agg).values/31\n",
    "\n",
    "\n",
    "temp = pd.DataFrame()\n",
    "\n",
    "for col in c.columns.values[280:288]:\n",
    "    for col2 in c.columns.values[288:]:\n",
    "        temp[col+'/'+col2] = c[col] / c[col2]"
   ]
  },
  {
   "cell_type": "code",
   "execution_count": 64,
   "metadata": {},
   "outputs": [],
   "source": [
    "c = c.drop(['tran_count_card_1d', 'tran_count_card_2d', 'tran_sum_card_1d',\n",
    "       'tran_sum_card_2d', 'tran_count_Merch_1d', 'tran_count_Merch_2d',\n",
    "       'tran_sum_Merch_1d', 'tran_sum_Merch_2d',\n",
    "       'avgdaily_tran_count_Merchnum_8d',\n",
    "       'avgdaily_tran_count_Cardnum_8d', 'avgdaily_tran_sum_Merchnum_8d',\n",
    "       'avgdaily_tran_sum_Cardnum_8d', 'avgdaily_tran_count_Merchnum_15d',\n",
    "       'avgdaily_tran_count_Cardnum_15d',\n",
    "       'avgdaily_tran_sum_Merchnum_15d', 'avgdaily_tran_sum_Cardnum_15d',\n",
    "       'avgdaily_tran_count_Merchnum_31d',\n",
    "       'avgdaily_tran_count_Cardnum_31d',\n",
    "       'avgdaily_tran_sum_Merchnum_31d', 'avgdaily_tran_sum_Cardnum_31d'], axis=1)\n",
    "c = pd.concat([c, temp], axis=1)\n"
   ]
  },
  {
   "cell_type": "markdown",
   "metadata": {},
   "source": [
    "## Days Since Variables"
   ]
  },
  {
   "cell_type": "code",
   "execution_count": 67,
   "metadata": {},
   "outputs": [],
   "source": [
    "for groupbyvar in [['Cardnum'], ['Merchnum'], ['Cardnum', 'Merchnum'], ['Cardnum', 'Merch zip'], ['Cardnum', 'Merch state']]:\n",
    "    sortCols = groupbyvar[:]\n",
    "    sortCols.append('Date')\n",
    "    c = c.sort_values(by = sortCols)\n",
    "    if len(groupbyvar) == 1:\n",
    "        c['Days_since_per_' + groupbyvar[0]] = c.groupby(groupbyvar)['Date'].apply(lambda x: (x - x.shift(1)).astype('timedelta64[D]')).fillna(365).values \n",
    "    else:\n",
    "        c['Days_since_per_Cardnum_' + groupbyvar[1]] = c.groupby(groupbyvar)['Date'].apply(lambda x: (x -x.shift(1)).astype('timedelta64[D]')).fillna(365).values \n",
    "\n"
   ]
  },
  {
   "cell_type": "code",
   "execution_count": 68,
   "metadata": {},
   "outputs": [
    {
     "data": {
      "text/plain": [
       "(96397, 381)"
      ]
     },
     "execution_count": 68,
     "metadata": {},
     "output_type": "execute_result"
    }
   ],
   "source": [
    "c.shape"
   ]
  },
  {
   "cell_type": "code",
   "execution_count": 69,
   "metadata": {},
   "outputs": [],
   "source": [
    "c.to_csv('CC Data Full.csv', index=False)"
   ]
  }
 ],
 "metadata": {
  "kernelspec": {
   "display_name": "Python 3",
   "language": "python",
   "name": "python3"
  },
  "language_info": {
   "codemirror_mode": {
    "name": "ipython",
    "version": 3
   },
   "file_extension": ".py",
   "mimetype": "text/x-python",
   "name": "python",
   "nbconvert_exporter": "python",
   "pygments_lexer": "ipython3",
   "version": "3.6.5"
  }
 },
 "nbformat": 4,
 "nbformat_minor": 2
}
